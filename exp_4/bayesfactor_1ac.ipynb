{
 "cells": [
  {
   "cell_type": "code",
   "execution_count": 1,
   "metadata": {},
   "outputs": [],
   "source": [
    "import numpy as np\n",
    "import torch"
   ]
  },
  {
   "cell_type": "code",
   "execution_count": 2,
   "metadata": {},
   "outputs": [],
   "source": [
    "thetas_posterior_a = np.load('thetas_posterior_1a.npy')"
   ]
  },
  {
   "cell_type": "code",
   "execution_count": 26,
   "metadata": {},
   "outputs": [],
   "source": [
    "thetas_posterior_b = np.load('thetas_posterior_1c.npy')"
   ]
  },
  {
   "cell_type": "code",
   "execution_count": 27,
   "metadata": {},
   "outputs": [
    {
     "data": {
      "text/plain": [
       "(array([  3317.,  89217., 197723., 134685.,  82236.,  85753., 147498.,\n",
       "        194025.,  64088.,   1458.]),\n",
       " array([-2.4020255 , -1.9141203 , -1.4262153 , -0.93831015, -0.45040506,\n",
       "         0.03750002,  0.5254051 ,  1.0133102 ,  1.5012153 ,  1.9891204 ,\n",
       "         2.4770255 ], dtype=float32),\n",
       " <a list of 10 Patch objects>)"
      ]
     },
     "execution_count": 27,
     "metadata": {},
     "output_type": "execute_result"
    },
    {
     "data": {
      "image/png": "[encoded data removed]",
      "text/plain": [
       "<Figure size 432x288 with 1 Axes>"
      ]
     },
     "metadata": {
      "needs_background": "light"
     },
     "output_type": "display_data"
    }
   ],
   "source": [
    "import matplotlib.pyplot as plt\n",
    "plt.hist(thetas_posterior_a)"
   ]
  },
  {
   "cell_type": "code",
   "execution_count": 28,
   "metadata": {},
   "outputs": [
    {
     "data": {
      "text/plain": [
       "(array([   335.,   8565.,  59618., 163425., 251737., 259084., 175588.,\n",
       "         69818.,  11432.,    398.]),\n",
       " array([-1.82109   , -1.461077  , -1.101064  , -0.74105096, -0.38103795,\n",
       "        -0.02102494,  0.33898807,  0.6990011 ,  1.0590141 ,  1.4190271 ,\n",
       "         1.7790401 ], dtype=float32),\n",
       " <a list of 10 Patch objects>)"
      ]
     },
     "execution_count": 28,
     "metadata": {},
     "output_type": "execute_result"
    },
    {
     "data": {
      "image/png": "[encoded data removed]",
      "text/plain": [
       "<Figure size 432x288 with 1 Axes>"
      ]
     },
     "metadata": {
      "needs_background": "light"
     },
     "output_type": "display_data"
    }
   ],
   "source": [
    "import matplotlib.pyplot as plt\n",
    "plt.hist(thetas_posterior_b)"
   ]
  },
  {
   "cell_type": "code",
   "execution_count": 29,
   "metadata": {},
   "outputs": [],
   "source": [
    "observations = np.load(\"obs1a.npy\")\n",
    "observations_tensor = torch.Tensor(observations)"
   ]
  },
  {
   "cell_type": "code",
   "execution_count": 30,
   "metadata": {},
   "outputs": [],
   "source": [
    "from torch.distributions.normal import Normal\n",
    "\n",
    "def log_likelihood(mean, observations, sigma=1):\n",
    "    return Normal(mean, sigma).log_prob(observations).sum(dim=1)"
   ]
  },
  {
   "cell_type": "code",
   "execution_count": 31,
   "metadata": {},
   "outputs": [],
   "source": [
    "thetas_all = np.vstack([thetas_posterior_a, thetas_posterior_b])"
   ]
  },
  {
   "cell_type": "code",
   "execution_count": 32,
   "metadata": {},
   "outputs": [],
   "source": [
    "thetas_all_tensor = torch.Tensor(thetas_all)"
   ]
  },
  {
   "cell_type": "code",
   "execution_count": 35,
   "metadata": {},
   "outputs": [],
   "source": [
    "thetas_all_tensor = torch.Tensor(thetas_all)"
   ]
  },
  {
   "cell_type": "code",
   "execution_count": 36,
   "metadata": {},
   "outputs": [],
   "source": [
    "lls_a = log_likelihood(-thetas_all_tensor*thetas_all_tensor,\n",
    "                       observations_tensor.squeeze().unsqueeze(0).expand(thetas_all_tensor.shape[0],-1),\n",
    "                       sigma=1)\n",
    "lls_a = lls_a.cpu().numpy()"
   ]
  },
  {
   "cell_type": "code",
   "execution_count": 38,
   "metadata": {},
   "outputs": [],
   "source": [
    "lls_b = log_likelihood(thetas_all_tensor*thetas_all_tensor,\n",
    "                       observations_tensor.squeeze().unsqueeze(0).expand(thetas_all_tensor.shape[0],-1),\n",
    "                       sigma=1)\n",
    "lls_b = lls_b.cpu().numpy()"
   ]
  },
  {
   "cell_type": "code",
   "execution_count": 40,
   "metadata": {},
   "outputs": [],
   "source": [
    "N = thetas_posterior_a.shape[0]\n",
    "def nll(logB):\n",
    "    part1 = np.log(1.+np.exp(lls_b[:N] - lls_a[:N] + logB)).mean()\n",
    "    part2 = np.log(1.+np.exp(lls_a[N:] - lls_b[N:] - logB)).mean()\n",
    "    return part1 + part2"
   ]
  },
  {
   "cell_type": "code",
   "execution_count": 46,
   "metadata": {},
   "outputs": [],
   "source": [
    "from scipy import optimize\n",
    "np.seterr('raise')\n",
    "result = optimize.minimize_scalar(nll)"
   ]
  },
  {
   "cell_type": "code",
   "execution_count": 47,
   "metadata": {},
   "outputs": [
    {
     "data": {
      "text/plain": [
       "True"
      ]
     },
     "execution_count": 47,
     "metadata": {},
     "output_type": "execute_result"
    }
   ],
   "source": [
    "result.success"
   ]
  },
  {
   "cell_type": "code",
   "execution_count": 48,
   "metadata": {},
   "outputs": [
    {
     "data": {
      "text/plain": [
       "1.5967321357341122"
      ]
     },
     "execution_count": 48,
     "metadata": {},
     "output_type": "execute_result"
    }
   ],
   "source": [
    "result.x"
   ]
  },
  {
   "cell_type": "code",
   "execution_count": null,
   "metadata": {},
   "outputs": [],
   "source": []
  }
 ],
 "metadata": {
  "kernelspec": {
   "display_name": "Python 3",
   "language": "python",
   "name": "python3"
  },
  "language_info": {
   "codemirror_mode": {
    "name": "ipython",
    "version": 3
   },
   "file_extension": ".py",
   "mimetype": "text/x-python",
   "name": "python",
   "nbconvert_exporter": "python",
   "pygments_lexer": "ipython3",
   "version": "3.7.7"
  }
 },
 "nbformat": 4,
 "nbformat_minor": 4
}
