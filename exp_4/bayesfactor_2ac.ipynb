{
 "cells": [
  {
   "cell_type": "code",
   "execution_count": 1,
   "metadata": {},
   "outputs": [],
   "source": [
    "import numpy as np\n",
    "import torch"
   ]
  },
  {
   "cell_type": "code",
   "execution_count": 4,
   "metadata": {},
   "outputs": [],
   "source": [
    "thetas_posterior_a = np.load('thetas_posterior_2a.npy')"
   ]
  },
  {
   "cell_type": "code",
   "execution_count": 5,
   "metadata": {},
   "outputs": [],
   "source": [
    "thetas_posterior_b = np.load('thetas_posterior_2c.npy')"
   ]
  },
  {
   "cell_type": "code",
   "execution_count": 6,
   "metadata": {},
   "outputs": [
    {
     "data": {
      "text/plain": [
       "(array([   712.,  12339.,  68426., 175166., 257597., 253893., 162448.,\n",
       "         59644.,   9319.,    456.]),\n",
       " array([-1.670463  , -1.332814  , -0.995165  , -0.65751606, -0.31986707,\n",
       "         0.01778191,  0.3554309 ,  0.6930799 ,  1.0307288 ,  1.3683778 ,\n",
       "         1.7060268 ], dtype=float32),\n",
       " <a list of 10 Patch objects>)"
      ]
     },
     "execution_count": 6,
     "metadata": {},
     "output_type": "execute_result"
    },
    {
     "data": {
      "image/png": "[encoded data removed]",
      "text/plain": [
       "<Figure size 432x288 with 1 Axes>"
      ]
     },
     "metadata": {
      "needs_background": "light"
     },
     "output_type": "display_data"
    }
   ],
   "source": [
    "import matplotlib.pyplot as plt\n",
    "#thetas_posterior_a = thetas_posterior_a[:10000]\n",
    "plt.hist(thetas_posterior_a)"
   ]
  },
  {
   "cell_type": "code",
   "execution_count": 7,
   "metadata": {},
   "outputs": [
    {
     "data": {
      "text/plain": [
       "(array([  4431., 114904., 217179., 113628.,  58069.,  63048., 133716.,\n",
       "        216153.,  77523.,   1349.]),\n",
       " array([-2.4808364 , -1.9745905 , -1.4683447 , -0.96209884, -0.455853  ,\n",
       "         0.05039287,  0.5566387 ,  1.0628846 ,  1.5691304 ,  2.0753763 ,\n",
       "         2.5816221 ], dtype=float32),\n",
       " <a list of 10 Patch objects>)"
      ]
     },
     "execution_count": 7,
     "metadata": {},
     "output_type": "execute_result"
    },
    {
     "data": {
      "image/png": "[encoded data removed]",
      "text/plain": [
       "<Figure size 432x288 with 1 Axes>"
      ]
     },
     "metadata": {
      "needs_background": "light"
     },
     "output_type": "display_data"
    }
   ],
   "source": [
    "import matplotlib.pyplot as plt\n",
    "#thetas_posterior_b = thetas_posterior_b[:10000]\n",
    "plt.hist(thetas_posterior_b)"
   ]
  },
  {
   "cell_type": "code",
   "execution_count": 8,
   "metadata": {},
   "outputs": [],
   "source": [
    "observations = np.load(\"obs2c.npy\")\n",
    "observations_tensor = torch.Tensor(observations)"
   ]
  },
  {
   "cell_type": "code",
   "execution_count": 9,
   "metadata": {},
   "outputs": [],
   "source": [
    "from torch.distributions.normal import Normal\n",
    "\n",
    "def log_likelihood(mean, observations, sigma=1):\n",
    "    return Normal(mean, sigma).log_prob(observations).sum(dim=1)"
   ]
  },
  {
   "cell_type": "code",
   "execution_count": 10,
   "metadata": {},
   "outputs": [],
   "source": [
    "thetas_all = np.vstack([thetas_posterior_a, thetas_posterior_b])"
   ]
  },
  {
   "cell_type": "code",
   "execution_count": 11,
   "metadata": {},
   "outputs": [],
   "source": [
    "thetas_all_tensor = torch.Tensor(thetas_all)"
   ]
  },
  {
   "cell_type": "code",
   "execution_count": 14,
   "metadata": {},
   "outputs": [],
   "source": [
    "thetas_all_tensor = torch.Tensor(thetas_all)"
   ]
  },
  {
   "cell_type": "code",
   "execution_count": 15,
   "metadata": {},
   "outputs": [],
   "source": [
    "lls_a = log_likelihood(-thetas_all_tensor*thetas_all_tensor,\n",
    "                       observations_tensor.squeeze().unsqueeze(0).expand(thetas_all_tensor.shape[0],-1),\n",
    "                       sigma=1)\n",
    "lls_a = lls_a.cpu().numpy()"
   ]
  },
  {
   "cell_type": "code",
   "execution_count": 17,
   "metadata": {},
   "outputs": [],
   "source": [
    "lls_b = log_likelihood(thetas_all_tensor*thetas_all_tensor,\n",
    "                       observations_tensor.squeeze().unsqueeze(0).expand(thetas_all_tensor.shape[0],-1),\n",
    "                       sigma=1)\n",
    "lls_b = lls_b.cpu().numpy()"
   ]
  },
  {
   "cell_type": "code",
   "execution_count": 19,
   "metadata": {},
   "outputs": [],
   "source": [
    "N = thetas_posterior_a.shape[0]\n",
    "def nll(logB):\n",
    "    part1 = np.log(1.+np.exp(lls_b[:N] - lls_a[:N] + logB)).mean()\n",
    "    part2 = np.log(1.+np.exp(lls_a[N:] - lls_b[N:] - logB)).mean()\n",
    "    return part1 + part2"
   ]
  },
  {
   "cell_type": "code",
   "execution_count": 25,
   "metadata": {},
   "outputs": [],
   "source": [
    "from scipy import optimize\n",
    "np.seterr('raise')\n",
    "result = optimize.minimize_scalar(nll)"
   ]
  },
  {
   "cell_type": "code",
   "execution_count": 26,
   "metadata": {},
   "outputs": [
    {
     "data": {
      "text/plain": [
       "True"
      ]
     },
     "execution_count": 26,
     "metadata": {},
     "output_type": "execute_result"
    }
   ],
   "source": [
    "result.success"
   ]
  },
  {
   "cell_type": "code",
   "execution_count": 27,
   "metadata": {},
   "outputs": [
    {
     "data": {
      "text/plain": [
       "-2.066328183888527"
      ]
     },
     "execution_count": 27,
     "metadata": {},
     "output_type": "execute_result"
    }
   ],
   "source": [
    "result.x"
   ]
  }
 ],
 "metadata": {
  "kernelspec": {
   "display_name": "Python 3",
   "language": "python",
   "name": "python3"
  },
  "language_info": {
   "codemirror_mode": {
    "name": "ipython",
    "version": 3
   },
   "file_extension": ".py",
   "mimetype": "text/x-python",
   "name": "python",
   "nbconvert_exporter": "python",
   "pygments_lexer": "ipython3",
   "version": "3.7.7"
  }
 },
 "nbformat": 4,
 "nbformat_minor": 4
}
