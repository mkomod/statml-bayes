{
 "cells": [
  {
   "cell_type": "code",
   "execution_count": 109,
   "metadata": {},
   "outputs": [],
   "source": [
    "import numpy as np\n",
    "import torch"
   ]
  },
  {
   "cell_type": "code",
   "execution_count": 110,
   "metadata": {},
   "outputs": [],
   "source": [
    "thetas_posterior_a = np.load('thetas_posterior_1a.npy')"
   ]
  },
  {
   "cell_type": "code",
   "execution_count": 111,
   "metadata": {},
   "outputs": [],
   "source": [
    "thetas_posterior_b = np.load('thetas_posterior_1b.npy')"
   ]
  },
  {
   "cell_type": "code",
   "execution_count": 112,
   "metadata": {},
   "outputs": [
    {
     "data": {
      "text/plain": [
       "(array([  3317.,  89217., 197723., 134685.,  82236.,  85753., 147498.,\n",
       "        194025.,  64088.,   1458.]),\n",
       " array([-2.4020255 , -1.9141203 , -1.4262153 , -0.93831015, -0.45040506,\n",
       "         0.03750002,  0.5254051 ,  1.0133102 ,  1.5012153 ,  1.9891204 ,\n",
       "         2.4770255 ], dtype=float32),\n",
       " <a list of 10 Patch objects>)"
      ]
     },
     "execution_count": 112,
     "metadata": {},
     "output_type": "execute_result"
    },
    {
     "data": {
      "image/png": "[encoded data removed]",
      "text/plain": [
       "<Figure size 432x288 with 1 Axes>"
      ]
     },
     "metadata": {
      "needs_background": "light"
     },
     "output_type": "display_data"
    }
   ],
   "source": [
    "import matplotlib.pyplot as plt\n",
    "plt.hist(thetas_posterior_a)"
   ]
  },
  {
   "cell_type": "code",
   "execution_count": 113,
   "metadata": {},
   "outputs": [
    {
     "data": {
      "text/plain": [
       "(array([5.68000e+02, 1.53030e+04, 8.60500e+04, 1.85798e+05, 2.38149e+05,\n",
       "        2.31873e+05, 1.67053e+05, 6.62840e+04, 8.70700e+03, 2.15000e+02]),\n",
       " array([-2.7491107 , -2.1873705 , -1.6256303 , -1.0638901 , -0.5021499 ,\n",
       "         0.05959034,  0.62133056,  1.1830708 ,  1.7448109 ,  2.3065512 ,\n",
       "         2.8682914 ], dtype=float32),\n",
       " <a list of 10 Patch objects>)"
      ]
     },
     "execution_count": 113,
     "metadata": {},
     "output_type": "execute_result"
    },
    {
     "data": {
      "image/png": "[encoded data removed]",
      "text/plain": [
       "<Figure size 432x288 with 1 Axes>"
      ]
     },
     "metadata": {
      "needs_background": "light"
     },
     "output_type": "display_data"
    }
   ],
   "source": [
    "import matplotlib.pyplot as plt\n",
    "plt.hist(thetas_posterior_b)"
   ]
  },
  {
   "cell_type": "code",
   "execution_count": 114,
   "metadata": {},
   "outputs": [],
   "source": [
    "observations = np.load(\"obs1a.npy\")\n",
    "observations_tensor = torch.Tensor(observations)"
   ]
  },
  {
   "cell_type": "code",
   "execution_count": 115,
   "metadata": {},
   "outputs": [],
   "source": [
    "from torch.distributions.normal import Normal\n",
    "\n",
    "def log_likelihood(mean, observations, sigma=1):\n",
    "    return Normal(mean, sigma).log_prob(observations).sum(dim=1)"
   ]
  },
  {
   "cell_type": "code",
   "execution_count": 116,
   "metadata": {},
   "outputs": [],
   "source": [
    "thetas_all = np.vstack([thetas_posterior_a, thetas_posterior_b])"
   ]
  },
  {
   "cell_type": "code",
   "execution_count": 117,
   "metadata": {},
   "outputs": [],
   "source": [
    "thetas_all_tensor = torch.Tensor(thetas_all)"
   ]
  },
  {
   "cell_type": "code",
   "execution_count": 120,
   "metadata": {},
   "outputs": [],
   "source": [
    "thetas_all_tensor = torch.Tensor(thetas_all)"
   ]
  },
  {
   "cell_type": "code",
   "execution_count": 121,
   "metadata": {},
   "outputs": [],
   "source": [
    "lls_a = log_likelihood(-thetas_all_tensor*thetas_all_tensor,\n",
    "                       observations_tensor.squeeze().unsqueeze(0).expand(thetas_all_tensor.shape[0],-1),\n",
    "                       sigma=1)\n",
    "lls_a = lls_a.cpu().numpy()"
   ]
  },
  {
   "cell_type": "code",
   "execution_count": 124,
   "metadata": {},
   "outputs": [],
   "source": [
    "lls_b = log_likelihood(thetas_all_tensor*thetas_all_tensor,\n",
    "                       observations_tensor.squeeze().unsqueeze(0).expand(thetas_all_tensor.shape[0],-1),\n",
    "                       sigma=2)\n",
    "lls_b = lls_b.cpu().numpy()"
   ]
  },
  {
   "cell_type": "code",
   "execution_count": 135,
   "metadata": {},
   "outputs": [],
   "source": [
    "N = thetas_posterior_a.shape[0]\n",
    "def nll(logB):\n",
    "    part1 = np.log(1.+np.exp(lls_b[:N] - lls_a[:N] + logB)).mean()\n",
    "    part2 = np.log(1.+np.exp(lls_a[N:] - lls_b[N:] - logB)).mean()\n",
    "    return part1 + part2"
   ]
  },
  {
   "cell_type": "code",
   "execution_count": 141,
   "metadata": {},
   "outputs": [],
   "source": [
    "from scipy import optimize\n",
    "np.seterr('raise')\n",
    "result = optimize.minimize_scalar(nll)"
   ]
  },
  {
   "cell_type": "code",
   "execution_count": 142,
   "metadata": {},
   "outputs": [
    {
     "data": {
      "text/plain": [
       "True"
      ]
     },
     "execution_count": 142,
     "metadata": {},
     "output_type": "execute_result"
    }
   ],
   "source": [
    "result.success"
   ]
  },
  {
   "cell_type": "code",
   "execution_count": 143,
   "metadata": {},
   "outputs": [
    {
     "data": {
      "text/plain": [
       "0.9680549897600299"
      ]
     },
     "execution_count": 143,
     "metadata": {},
     "output_type": "execute_result"
    }
   ],
   "source": [
    "result.x"
   ]
  }
 ],
 "metadata": {
  "kernelspec": {
   "display_name": "Python 3",
   "language": "python",
   "name": "python3"
  },
  "language_info": {
   "codemirror_mode": {
    "name": "ipython",
    "version": 3
   },
   "file_extension": ".py",
   "mimetype": "text/x-python",
   "name": "python",
   "nbconvert_exporter": "python",
   "pygments_lexer": "ipython3",
   "version": "3.7.7"
  }
 },
 "nbformat": 4,
 "nbformat_minor": 4
}
