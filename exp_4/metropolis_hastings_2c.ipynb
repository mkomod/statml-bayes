{
 "cells": [
  {
   "cell_type": "markdown",
   "metadata": {},
   "source": [
    "# Markov chain Monte Carlo: Metropolis Hastings"
   ]
  },
  {
   "cell_type": "code",
   "execution_count": 1,
   "metadata": {},
   "outputs": [],
   "source": [
    "import hypothesis\n",
    "import matplotlib.pyplot as plt\n",
    "import torch\n",
    "\n",
    "from hypothesis.inference.mcmc import MetropolisHastings"
   ]
  },
  {
   "cell_type": "markdown",
   "metadata": {},
   "source": [
    "As in every Bayesian inference setting we have to define a prior $p(\\theta)$, which is in our case $\\mathcal{U}(-30, 30)$."
   ]
  },
  {
   "cell_type": "code",
   "execution_count": 2,
   "metadata": {},
   "outputs": [],
   "source": [
    "from torch.distributions.uniform import Uniform\n",
    "\n",
    "prior = Uniform(-30, 30)"
   ]
  },
  {
   "cell_type": "markdown",
   "metadata": {},
   "source": [
    "The Metropolis-Hastings sampler needs a proposal (or transition) mechanism to propose states $\\theta'$. This can be done using a *transition distribution*. As the target space is univariate, we simply use a `NormalTransition` to generate proposals."
   ]
  },
  {
   "cell_type": "code",
   "execution_count": 3,
   "metadata": {},
   "outputs": [],
   "source": [
    "from torch.distributions.normal import Normal as NormalDistribution\n",
    "import torch\n",
    "\n",
    "\n",
    "class Transition:\n",
    "    r\"\"\"\"\"\"\n",
    "\n",
    "    def log_prob(self, xs, conditionals):\n",
    "        raise NotImplementedError\n",
    "\n",
    "    def sample(self, xs, samples=1):\n",
    "        raise NotImplementedError\n",
    "\n",
    "    def is_symmetrical(self):\n",
    "        raise NotImplementedError\n",
    "\n",
    "\n",
    "\n",
    "class SymmetricalTransition(Transition):\n",
    "\n",
    "    def is_symmetrical(self):\n",
    "        return True\n",
    "    \n",
    "class NormalTransition(SymmetricalTransition):\n",
    "\n",
    "    def __init__(self, sigma):\n",
    "        super(NormalTransition, self).__init__()\n",
    "        self.sigma = sigma\n",
    "\n",
    "    def log_prob(self, mean, conditionals):\n",
    "        normal = NormalDistribution(mean, self.sigma)\n",
    "        log_probabilities = normal.log_prob(conditionals)\n",
    "        del Normal\n",
    "\n",
    "        return log_probabilities\n",
    "\n",
    "    def sample(self, means, samples=1):\n",
    "        with torch.no_grad():\n",
    "            means = means.view(-1, 1)\n",
    "            normal_samples = torch.randn(means.size(0), samples)\n",
    "            sigma = self.sigma\n",
    "            samples = (normal_samples * sigma) + means\n",
    "\n",
    "        return samples\n",
    "\n",
    "transition = NormalTransition(1)"
   ]
  },
  {
   "cell_type": "markdown",
   "metadata": {},
   "source": [
    "The likelihood of the generating process is normal. The log likelihood function in Hypothesis' MCMC samplers accept a parameter $\\theta$ (tensor) and a tensor of observations."
   ]
  },
  {
   "cell_type": "code",
   "execution_count": 4,
   "metadata": {},
   "outputs": [],
   "source": [
    "from torch.distributions.normal import Normal\n",
    "\n",
    "SIGMA = 1\n",
    "TRUTH = 1\n",
    "\n",
    "def distr(theta=TRUTH, sigma=SIGMA):\n",
    "    return Normal(theta*theta, sigma)\n",
    "\n",
    "def log_likelihood(theta, observations):\n",
    "    return distr(theta).log_prob(observations).sum()"
   ]
  },
  {
   "cell_type": "markdown",
   "metadata": {},
   "source": [
    "We draw an observation from the forward model using an assumed truth:"
   ]
  },
  {
   "cell_type": "code",
   "execution_count": 5,
   "metadata": {},
   "outputs": [],
   "source": [
    "\n",
    "observations = distr().sample(torch.Size([1])).view(-1, 1)"
   ]
  },
  {
   "cell_type": "code",
   "execution_count": 6,
   "metadata": {},
   "outputs": [
    {
     "data": {
      "text/plain": [
       "tensor([[1.7403]])"
      ]
     },
     "execution_count": 6,
     "metadata": {},
     "output_type": "execute_result"
    }
   ],
   "source": [
    "observations"
   ]
  },
  {
   "cell_type": "code",
   "execution_count": 7,
   "metadata": {},
   "outputs": [],
   "source": [
    "import numpy as np\n",
    "np.save('obs2c', observations)"
   ]
  },
  {
   "cell_type": "markdown",
   "metadata": {},
   "source": [
    "We setup the Metropolis Hastings sampler using the components specified above:"
   ]
  },
  {
   "cell_type": "code",
   "execution_count": 8,
   "metadata": {},
   "outputs": [],
   "source": [
    "sampler = MetropolisHastings(prior, log_likelihood, transition)"
   ]
  },
  {
   "cell_type": "markdown",
   "metadata": {},
   "source": [
    "First, we need to let the Markov chain converge to its stationary distribution. This can be achieved using a *burnin chain*."
   ]
  },
  {
   "cell_type": "code",
   "execution_count": 9,
   "metadata": {},
   "outputs": [
    {
     "data": {
      "image/png": "[encoded data removed]",
      "text/plain": [
       "<Figure size 1008x144 with 2 Axes>"
      ]
     },
     "metadata": {
      "needs_background": "light"
     },
     "output_type": "display_data"
    }
   ],
   "source": [
    "from hypothesis.visualization.mcmc import plot_trace\n",
    "\n",
    "\n",
    "theta = prior.sample()\n",
    "burnin_chain = sampler.sample(observations, theta, num_samples=200)\n",
    "\n",
    "figure = plot_trace(burnin_chain)\n",
    "plt.show()"
   ]
  },
  {
   "cell_type": "code",
   "execution_count": 10,
   "metadata": {},
   "outputs": [
    {
     "data": {
      "text/plain": [
       "tensor([-1.5475])"
      ]
     },
     "execution_count": 10,
     "metadata": {},
     "output_type": "execute_result"
    }
   ],
   "source": [
    "burnin_chain[-1]"
   ]
  },
  {
   "cell_type": "markdown",
   "metadata": {},
   "source": [
    "Finally, after the burnin chain converged to its stationary distribution, we let the MetropolisHastings draw samples from the posterior."
   ]
  },
  {
   "cell_type": "code",
   "execution_count": 11,
   "metadata": {},
   "outputs": [
    {
     "name": "stdout",
     "output_type": "stream",
     "text": [
      "Time in seconds :  172.23446525097825\n"
     ]
    },
    {
     "data": {
      "image/png": "[encoded data removed]",
      "text/plain": [
       "<Figure size 1008x144 with 2 Axes>"
      ]
     },
     "metadata": {
      "needs_background": "light"
     },
     "output_type": "display_data"
    }
   ],
   "source": [
    "import time\n",
    "start = time.monotonic()\n",
    "\n",
    "theta = burnin_chain[-1]\n",
    "chain = sampler.sample(observations, theta, num_samples=1000000)\n",
    "\n",
    "end = time.monotonic()\n",
    "\n",
    "print('Time in seconds : ', end-start)\n",
    "\n",
    "figure = plot_trace(chain)\n",
    "plt.show()"
   ]
  },
  {
   "cell_type": "code",
   "execution_count": 12,
   "metadata": {},
   "outputs": [],
   "source": [
    "np.save('thetas_posterior_2c', chain.samples.numpy())"
   ]
  }
 ],
 "metadata": {
  "kernelspec": {
   "display_name": "Python 3",
   "language": "python",
   "name": "python3"
  },
  "language_info": {
   "codemirror_mode": {
    "name": "ipython",
    "version": 3
   },
   "file_extension": ".py",
   "mimetype": "text/x-python",
   "name": "python",
   "nbconvert_exporter": "python",
   "pygments_lexer": "ipython3",
   "version": "3.7.7"
  }
 },
 "nbformat": 4,
 "nbformat_minor": 4
}
